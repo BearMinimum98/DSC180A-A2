{
 "cells": [
  {
   "cell_type": "markdown",
   "metadata": {},
   "source": [
    "# Part 1\n",
    "### Define and explain the graphs being used to model the android applications (from the Hindroid paper). Explain any computationally relevant portions of the process of writing (text processing) code to extract the nodes and edges of the graphs.\n",
    "The graphs in used to model Android applications are:\n",
    "* app-to-api: maps apps to all the different APIs that they use\n",
    "* api-to-api: maps APIs to APIs based on if they coexist in the same code block\n",
    "* api-to-api: maps APIs to APIs based on if they are in the same package. To save space this is done as a mapping of API<-> packages. In order to get API<->API we can simply do AA<sup>T</sup>\n",
    "* api-to-api: maps APIs to APIs based on if they are invoked in the same way. To save space this is done as a mapping of API<->invoke method. To get API<->API we can simply do AA<sup>T</sup>\n",
    "\n",
    "In order to text process, we need to extract call methods, remember in the methods what APIs we have called, and have some way of associating each method call with a respective node in our graph. Then, we can simply get those nodes out to create edges between them."
   ]
  },
  {
   "cell_type": "code",
   "execution_count": null,
   "metadata": {},
   "outputs": [
    {
     "name": "stdout",
     "output_type": "stream",
     "text": [
      "ignoring because size is 71.600000\n",
      "ignoring because size is 626.600000\n",
      "ignoring 2048 because exists\n",
      "ignoring 2048 because exists\n",
      "4636 downloaded\n",
      "ignoring because size is 84.900000\n",
      "five-craft-nights downloaded\n",
      "modern-sniper downloaded\n",
      "ignoring guns because exists\n",
      "dual downloaded\n",
      "ignoring flappy-crush because exists\n",
      "batman-the-flash-hero-run downloaded\n",
      "gun-shoot-war downloaded\n",
      "ignoring because size is 69.600000\n",
      "sonic-jump-fever downloaded\n",
      "ignoring because size is 99.500000\n",
      "ignoring because size is 89.100000\n",
      "ignoring because size is 75.700000\n",
      "prop-hunt-portable downloaded\n",
      "deathrun-portable downloaded\n",
      "ignoring because size is 61.700000\n",
      "ignoring because size is 53.600000\n",
      "mountain-sniper-shooting-3d-fps downloaded\n",
      "ignoring ninja-revenge because exists\n",
      "zombie-frontier downloaded\n",
      "ignoring birds-vs-zombies-2 because exists\n",
      "zombie-shooter-3d downloaded\n",
      "city-battle-war downloaded\n",
      "ignoring assassin-ape-open-world-game because exists\n",
      "ignoring because size is 80.100000\n",
      "101-skateboard-racing-3d downloaded\n",
      "tomb-run downloaded\n",
      "ignoring because size is 626.600000\n",
      "soul-guardians-reatime-action-battle downloaded\n",
      "contract-killer-zombies downloaded\n",
      "zombie-cubes-free downloaded\n",
      "ignoring because size is 53.700000\n",
      "trigger-down downloaded\n",
      "ignoring because size is 626.600000\n",
      "ignoring because size is 51.400000\n",
      "ignoring because size is 626.600000\n",
      "ignoring because size is 68.000000\n",
      "ignoring because size is 95.700000\n",
      "ignoring stickman-and-gun because exists\n",
      "cockroach-smasher-free-fun-game-for-kids downloaded\n",
      "ignoring because size is 61.800000\n",
      "ignoring ninja-kid-run-free-fun-games because exists\n",
      "ignoring because size is 626.600000\n",
      "ignoring because size is 81.700000\n",
      "ignoring because size is 626.600000\n",
      "call-of-modernwar-warfare-duty downloaded\n",
      "ignoring because size is 54.400000\n",
      "ignoring because size is 67.300000\n",
      "stealth-ninja-assassin-3d-best-stealth-game downloaded\n",
      "ignoring because size is 626.600000\n",
      "ignoring because size is 626.600000\n",
      "ignoring because size is 72.200000\n",
      "ignoring because size is 626.600000\n",
      "ignoring enemy-strike because exists\n",
      "ignoring zombie-frontier-sniper because exists\n",
      "zombie-diary-2-evolution downloaded\n",
      "zombie-objective downloaded\n",
      "ignoring because size is 99.500000\n",
      "racing-penguin-flying-free downloaded\n",
      "ignoring contract-killer because exists\n",
      "ignoring because size is 79.200000\n",
      "snail-battles downloaded\n",
      "super-tank-battle-mycityarmy-remaster-90-tv-game downloaded\n",
      "ignoring because size is 626.600000\n",
      "ignoring because size is 86.000000\n",
      "ignoring slender-man because exists\n",
      "ignoring because size is 54.600000\n",
      "ignoring because size is 64.700000\n",
      "ignoring because size is 626.600000\n",
      "ignoring because size is 92.400000\n",
      "ignoring because size is 51.800000\n",
      "top-celebrity-3d-fashion-game downloaded\n",
      "ignoring because size is 61.200000\n",
      "the-hinterlands-mining-game downloaded\n",
      "ignoring bunny-run because exists\n",
      "nob-s-world-jungle-adventure downloaded\n",
      "bubble-shooter downloaded\n",
      "bubble-shooter downloaded\n",
      "bubble-shooter-legend downloaded\n"
     ]
    }
   ],
   "source": [
    "from data_pipeline import download_and_process_apks\n",
    "\n",
    "download_and_process_apks(50)"
   ]
  },
  {
   "cell_type": "markdown",
   "metadata": {},
   "source": [
    "### EDA on amount of classes per app"
   ]
  },
  {
   "cell_type": "code",
   "execution_count": null,
   "metadata": {},
   "outputs": [],
   "source": [
    "import os\n",
    "\n",
    "total_classes_regular = 0\n",
    "total_apps_regular = 0\n",
    "print('Regular Apps classes per app:')\n",
    "for directory in next(os.walk('data'))[1]:\n",
    "    total_apps_regular += 1\n",
    "    \n",
    "    classes = len(next(os.walk('data/' + directory))[2])\n",
    "    total_classes_regular += classes\n",
    "    print(directory + \": \" + str(classes))\n",
    "print('Average classes per app: %i' % (total_classes_regular / total_apps_regular))\n",
    "        \n",
    "print('\\nMalware:')\n",
    "for directory in next(os.walk('/datasets/dsc180a-wi20-public/Malware/amd_data_smali'))[1]:\n",
    "    total_classes_variety = 0\n",
    "    total_apps_variety = 0\n",
    "    for variety in next(os.walk('/datasets/dsc180a-wi20-public/Malware/amd_data_smali/' + directory))[1]:\n",
    "        for sample in next(os.walk('/datasets/dsc180a-wi20-public/Malware/amd_data_smali/%s/%s' % (directory, variety)))[1]:\n",
    "            total_apps_variety += 1\n",
    "\n",
    "            classes = sum([len(files) for r, d, files in os.walk('/datasets/dsc180a-wi20-public/Malware/amd_data_smali/%s/%s/%s/' % (directory, variety, sample))])\n",
    "            total_classes_variety += classes\n",
    "            print('%s/%s/%s: ' % (directory, variety, sample) + str(classes))\n",
    "    print('Average classes for %s: %i' % (directory, total_classes_variety / total_apps_variety))"
   ]
  },
  {
   "cell_type": "markdown",
   "metadata": {},
   "source": [
    "Looking at average class amounts, it seems a lot of malware is simply repackaged and rebranded as a different app, when the internals seem the same. For example, Stealer has either 120 or 122 classes, with no other values being present. The same goes for many other apps, such as BankBot having 48, 348, 938, or 1462 a lot of the time. Due to some malware having as low as 19 classes, and others having over 1000, class amount is not really indicative of malware when compared to benign apps."
   ]
  },
  {
   "cell_type": "code",
   "execution_count": null,
   "metadata": {},
   "outputs": [],
   "source": [
    "os.listdir('malware/GingerMaster/variety3/2a96b4721c638ec5d67b9b318bb0b3e0')"
   ]
  },
  {
   "cell_type": "code",
   "execution_count": null,
   "metadata": {},
   "outputs": [],
   "source": [
    "import threading\n",
    "\n",
    "threads = []\n",
    "for directory in next(os.walk('testing/benign'))[1]:\n",
    "    thread = threading.Thread(target=os.system, args=('./reorganize-testing.sh %s' % 'testing/benign/' + directory,))\n",
    "    threads.append(thread)\n",
    "    thread.start()\n",
    "# for directory in next(os.walk('testing/malware'))[1]:\n",
    "#     thread = threading.Thread(target=os.system, args=('./reorganize-testing.sh %s' % 'testing/malware/' + directory,))\n",
    "#     threads.append(thread)\n",
    "#     thread.start()\n",
    "for thread in threads:\n",
    "    thread.join()\n",
    "print('done')"
   ]
  },
  {
   "cell_type": "code",
   "execution_count": 30,
   "metadata": {},
   "outputs": [
    {
     "data": {
      "application/vnd.jupyter.widget-view+json": {
       "model_id": "e7a6b72656864cb1ac94182d931251cf",
       "version_major": 2,
       "version_minor": 0
      },
      "text/plain": [
       "HBox(children=(IntProgress(value=0, max=3), HTML(value='')))"
      ]
     },
     "metadata": {},
     "output_type": "display_data"
    },
    {
     "name": "stdout",
     "output_type": "stream",
     "text": [
      "\n"
     ]
    }
   ],
   "source": [
    "import os\n",
    "import networkx as nx\n",
    "from tqdm import tqdm_notebook\n",
    "from collections import defaultdict\n",
    "import pandas as pd\n",
    "\n",
    "config = {}\n",
    "# config['path_benign'] = '/datasets/dsc180a-wi20-public/Malware/testing/benign'\n",
    "# config['path_benign'] = 'test'\n",
    "config['path_benign'] = 'data'\n",
    "config['path_malware'] = '/datasets/dsc180a-wi20-public/Malware/testing/malware'\n",
    "\n",
    "api_list = []\n",
    "app_list = []\n",
    "package_list = []\n",
    "seen_api = set()\n",
    "# api_counts = defaultdict(int)\n",
    "\n",
    "# pandas method\n",
    "# data = pd.DataFrame()\n",
    "\n",
    "app_to_api = nx.Graph()\n",
    "api_cooccur = nx.Graph()\n",
    "api_same_invoke = nx.Graph()\n",
    "api_same_package = nx.Graph()\n",
    "\n",
    "for directory in tqdm_notebook(next(os.walk(config['path_benign']))[1]):\n",
    "    app_list.append(directory)\n",
    "    app_to_api.add_node(directory)\n",
    "    \n",
    "    # pandas method\n",
    "#     app_data = []\n",
    "    \n",
    "    for subdir, dirs, files in os.walk(config['path_benign'] + '/' + directory):\n",
    "        for file in files:\n",
    "            filepath = subdir + os.sep + file\n",
    "\n",
    "            with open(filepath, 'r') as fp:\n",
    "                in_method = ''\n",
    "                api_calls = set()\n",
    "                \n",
    "                for line in fp:\n",
    "                    stripped = line.strip()\n",
    "                    if stripped.startswith('.method'):\n",
    "                        in_method = stripped[8:]\n",
    "                    if stripped == '.end method':\n",
    "                        in_method = ''\n",
    "                        api_calls.clear()\n",
    "                    if stripped[:6] == 'invoke':\n",
    "                        invoke_method = stripped.split(' {')[0][7:].split('/')[0]\n",
    "                        \n",
    "                        splitted = line.split('}, ')\n",
    "                        fns = splitted[1].split('->')\n",
    "                        api_package = fns[0]\n",
    "                        method = fns[1].split('(')[0]\n",
    "                        \n",
    "                        current_method_call = api_package + ',' + method\n",
    "    \n",
    "                        api_calls.add(current_method_call)\n",
    "                        \n",
    "                        # pandas method\n",
    "#                         app_data.append([directory, invoke_method, '%s,%s,%s' % (directory, file, in_method), api_package, current_method_call])\n",
    "    \n",
    "                        if current_method_call not in seen_api:\n",
    "                            api_list.append(current_method_call)\n",
    "                            seen_api.add(current_method_call)\n",
    "                    \n",
    "                        # app to api generation\n",
    "                        if current_method_call not in app_to_api:\n",
    "                            app_to_api.add_node(current_method_call)\n",
    "                        app_to_api.add_edge(directory, current_method_call)\n",
    "                        \n",
    "                        # api to api co-occurance generation\n",
    "                        if in_method != '':\n",
    "                            if current_method_call not in api_cooccur:\n",
    "                                api_cooccur.add_node(current_method_call)\n",
    "                            for api_call in api_calls:\n",
    "                                if not api_cooccur.has_edge(current_method_call, api_call):\n",
    "                                    api_cooccur.add_edge(current_method_call, api_call)\n",
    "                                \n",
    "                        # api to api invoke generation\n",
    "                        # can go from invoke method <-> method call to method call <-> method call by doing A*(A^T)\n",
    "                        if invoke_method not in api_same_invoke:\n",
    "                            api_same_invoke.add_node(invoke_method)\n",
    "                        if current_method_call not in api_same_invoke:\n",
    "                            api_same_invoke.add_node(current_method_call)\n",
    "                        if not api_same_invoke.has_edge(invoke_method, current_method_call):\n",
    "                            api_same_invoke.add_edge(invoke_method, current_method_call)\n",
    "                                \n",
    "                        # api to api package generation\n",
    "                        # can go from package <-> method call to method call <-> method call by doing A*(A^T)\n",
    "                        if api_package not in api_same_package:\n",
    "                            package_list.append(api_package)\n",
    "                            api_same_package.add_node(api_package)\n",
    "                        if current_method_call not in api_same_package:\n",
    "                            api_same_package.add_node(current_method_call)\n",
    "                        if not api_same_package.has_edge(api_package, current_method_call):\n",
    "                            api_same_package.add_edge(api_package, current_method_call)\n",
    "    # pandas method\n",
    "#     data = data.append(app_data)\n",
    "# data.columns = ['app', 'invoke', 'method', 'package', 'api']\n",
    "# nx.draw(app_to_api)"
   ]
  },
  {
   "cell_type": "code",
   "execution_count": 31,
   "metadata": {},
   "outputs": [
    {
     "data": {
      "text/plain": [
       "<3x17656 sparse matrix of type '<class 'numpy.int64'>'\n",
       "\twith 18857 stored elements in Compressed Sparse Row format>"
      ]
     },
     "execution_count": 31,
     "metadata": {},
     "output_type": "execute_result"
    }
   ],
   "source": [
    "# app-api\n",
    "matrix_A = nx.adjacency_matrix(app_to_api, api_list + app_list)[-len(app_list):, :-len(app_list)]\n",
    "matrix_A"
   ]
  },
  {
   "cell_type": "code",
   "execution_count": 32,
   "metadata": {},
   "outputs": [
    {
     "data": {
      "text/plain": [
       "<17656x17656 sparse matrix of type '<class 'numpy.int64'>'\n",
       "\twith 479378 stored elements in Compressed Sparse Row format>"
      ]
     },
     "execution_count": 32,
     "metadata": {},
     "output_type": "execute_result"
    }
   ],
   "source": [
    "# api-api co-occur\n",
    "matrix_B = nx.adjacency_matrix(api_cooccur, api_list)\n",
    "matrix_B"
   ]
  },
  {
   "cell_type": "code",
   "execution_count": 33,
   "metadata": {},
   "outputs": [
    {
     "data": {
      "text/plain": [
       "<17656x17656 sparse matrix of type '<class 'numpy.int64'>'\n",
       "\twith 103752202 stored elements in Compressed Sparse Column format>"
      ]
     },
     "execution_count": 33,
     "metadata": {},
     "output_type": "execute_result"
    }
   ],
   "source": [
    "# api-to-api same invoke\n",
    "from scipy.sparse import csr_matrix\n",
    "import scipy.sparse\n",
    "import numpy as np\n",
    "invoke_types = ['direct', 'static', 'virtual', 'super', 'interface']\n",
    "matrix_C = nx.adjacency_matrix(api_same_invoke, nodelist=api_list + invoke_types)[-len(invoke_types):, :-len(invoke_types)]\n",
    "# scipy.sparse.save_npz('matrix_C.npz', matrix_C)\n",
    "# matrix_C_disk = np.memmap('matrix_C.npz', dtype='float32', mode='r')\n",
    "# matrix_C_disk.shape\n",
    "# matrix_C_disk_final = np.memmap('matrix_C_final.npz', dtype='float32', mode='w+', shape=(matrix_C_disk.shape[1], matrix_C_disk.shape[1]))\n",
    "# matrix_C_disk_final[:] = matrix_C_disk.T.dot(matrix_C_disk)\n",
    "matrix_C = matrix_C.transpose() @ matrix_C\n",
    "# matrix_C = csr_matrix(np.matmul(matrix_C.T, matrix_C))\n",
    "matrix_C"
   ]
  },
  {
   "cell_type": "code",
   "execution_count": 34,
   "metadata": {},
   "outputs": [
    {
     "data": {
      "text/plain": [
       "<17656x17656 sparse matrix of type '<class 'numpy.int64'>'\n",
       "\twith 239330 stored elements in Compressed Sparse Column format>"
      ]
     },
     "execution_count": 34,
     "metadata": {},
     "output_type": "execute_result"
    }
   ],
   "source": [
    "# api-to-api same package\n",
    "matrix_D = nx.adjacency_matrix(api_same_package, nodelist=api_list + package_list)[-len(package_list):, :-len(package_list)]\n",
    "matrix_D = matrix_D.transpose() @ matrix_D\n",
    "matrix_D"
   ]
  },
  {
   "cell_type": "markdown",
   "metadata": {},
   "source": [
    "# pandas implementation for deriving matrices"
   ]
  },
  {
   "cell_type": "code",
   "execution_count": null,
   "metadata": {},
   "outputs": [],
   "source": [
    "# pandas app-api\n",
    "from scipy.sparse import csr_matrix\n",
    "matrix_A = csr_matrix(pd.pivot_table(data, index='app', columns='api', aggfunc='count').fillna(0).clip(0, 1).values)\n",
    "matrix_A"
   ]
  },
  {
   "cell_type": "code",
   "execution_count": 12,
   "metadata": {},
   "outputs": [
    {
     "data": {
      "text/plain": [
       "<17656x17656 sparse matrix of type '<class 'numpy.float64'>'\n",
       "\twith 239330 stored elements in Compressed Sparse Row format>"
      ]
     },
     "execution_count": 12,
     "metadata": {},
     "output_type": "execute_result"
    }
   ],
   "source": [
    "# pandas api-api same package\n",
    "from scipy.sparse import csr_matrix\n",
    "import numpy as np\n",
    "part_package = csr_matrix(pd.pivot_table(data, index='api', columns='package', aggfunc='count').fillna(0).clip(0, 1).values)\n",
    "matrix_package = part_package @ part_package.transpose()\n",
    "matrix_package"
   ]
  },
  {
   "cell_type": "code",
   "execution_count": 11,
   "metadata": {},
   "outputs": [
    {
     "data": {
      "text/plain": [
       "17656"
      ]
     },
     "execution_count": 11,
     "metadata": {},
     "output_type": "execute_result"
    }
   ],
   "source": [
    "len(data['api'].unique())"
   ]
  },
  {
   "cell_type": "code",
   "execution_count": null,
   "metadata": {},
   "outputs": [],
   "source": [
    "# O(n + k) top kth frequent appearing elements, sorry heap but O(nlogk) is just too slow for leetcode\n",
    "\n",
    "freq_map = defaultdict(list)\n",
    "max_degree = 0\n",
    "for node in app_to_api.degree:\n",
    "    if max_degree < node[1]:\n",
    "        max_degree = node[1]\n",
    "    freq_map[node[1]].append(node[0])\n",
    "\n",
    "highest_k = 100\n",
    "should_break = False\n",
    "for i in range(max_degree, -1, -1):\n",
    "    if i in freq_map:\n",
    "        for api in freq_map[i]:\n",
    "            print('%s: %i' % (api, i))\n",
    "            highest_k -= 1\n",
    "            if highest_k == 0:\n",
    "                should_break = True\n",
    "                break\n",
    "    if should_break:\n",
    "        break"
   ]
  },
  {
   "cell_type": "markdown",
   "metadata": {},
   "source": [
    "The app with the highest amount of API calls in my sample set is a cryptocurrency wallet, with a total of 63992 unique API calls. The API with the highest usages are core Java utils, used among all 50 apps. These include things such as initialization of Object (from super() calls due to inheritance), StringBuilders, Java Collection objects, and IOStreams."
   ]
  },
  {
   "cell_type": "code",
   "execution_count": null,
   "metadata": {},
   "outputs": [],
   "source": []
  }
 ],
 "metadata": {
  "kernelspec": {
   "display_name": "Python 3",
   "language": "python",
   "name": "python3"
  },
  "language_info": {
   "codemirror_mode": {
    "name": "ipython",
    "version": 3
   },
   "file_extension": ".py",
   "mimetype": "text/x-python",
   "name": "python",
   "nbconvert_exporter": "python",
   "pygments_lexer": "ipython3",
   "version": "3.7.3"
  }
 },
 "nbformat": 4,
 "nbformat_minor": 2
}
